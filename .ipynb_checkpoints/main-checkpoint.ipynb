{
 "cells": [
  {
   "cell_type": "code",
   "execution_count": 7,
   "id": "32107a68",
   "metadata": {},
   "outputs": [],
   "source": [
    "import numpy as np\n",
    "import pandas as pd\n",
    "import seaborn as sns\n",
    "import matplotlib.pyplot as plt"
   ]
  },
  {
   "cell_type": "code",
   "execution_count": 7,
   "id": "7bc7b478",
   "metadata": {},
   "outputs": [],
   "source": [
    "df = pd.read_csv(\"./dataset/train.csv\")"
   ]
  },
  {
   "cell_type": "code",
   "execution_count": 9,
   "id": "d4fc5a18",
   "metadata": {},
   "outputs": [],
   "source": [
    "# Dataset Description"
   ]
  },
  {
   "cell_type": "code",
   "execution_count": 14,
   "id": "de7e8549",
   "metadata": {},
   "outputs": [
    {
     "data": {
      "text/plain": [
       "(404290, 6)"
      ]
     },
     "execution_count": 14,
     "metadata": {},
     "output_type": "execute_result"
    }
   ],
   "source": [
    "df.shape"
   ]
  },
  {
   "cell_type": "code",
   "execution_count": 15,
   "id": "7c8d7a25",
   "metadata": {
    "collapsed": true
   },
   "outputs": [
    {
     "data": {
      "text/html": [
       "<div>\n",
       "<style scoped>\n",
       "    .dataframe tbody tr th:only-of-type {\n",
       "        vertical-align: middle;\n",
       "    }\n",
       "\n",
       "    .dataframe tbody tr th {\n",
       "        vertical-align: top;\n",
       "    }\n",
       "\n",
       "    .dataframe thead th {\n",
       "        text-align: right;\n",
       "    }\n",
       "</style>\n",
       "<table border=\"1\" class=\"dataframe\">\n",
       "  <thead>\n",
       "    <tr style=\"text-align: right;\">\n",
       "      <th></th>\n",
       "      <th>id</th>\n",
       "      <th>qid1</th>\n",
       "      <th>qid2</th>\n",
       "      <th>question1</th>\n",
       "      <th>question2</th>\n",
       "      <th>is_duplicate</th>\n",
       "    </tr>\n",
       "  </thead>\n",
       "  <tbody>\n",
       "    <tr>\n",
       "      <th>0</th>\n",
       "      <td>0</td>\n",
       "      <td>1</td>\n",
       "      <td>2</td>\n",
       "      <td>What is the step by step guide to invest in sh...</td>\n",
       "      <td>What is the step by step guide to invest in sh...</td>\n",
       "      <td>0</td>\n",
       "    </tr>\n",
       "    <tr>\n",
       "      <th>1</th>\n",
       "      <td>1</td>\n",
       "      <td>3</td>\n",
       "      <td>4</td>\n",
       "      <td>What is the story of Kohinoor (Koh-i-Noor) Dia...</td>\n",
       "      <td>What would happen if the Indian government sto...</td>\n",
       "      <td>0</td>\n",
       "    </tr>\n",
       "    <tr>\n",
       "      <th>2</th>\n",
       "      <td>2</td>\n",
       "      <td>5</td>\n",
       "      <td>6</td>\n",
       "      <td>How can I increase the speed of my internet co...</td>\n",
       "      <td>How can Internet speed be increased by hacking...</td>\n",
       "      <td>0</td>\n",
       "    </tr>\n",
       "    <tr>\n",
       "      <th>3</th>\n",
       "      <td>3</td>\n",
       "      <td>7</td>\n",
       "      <td>8</td>\n",
       "      <td>Why am I mentally very lonely? How can I solve...</td>\n",
       "      <td>Find the remainder when [math]23^{24}[/math] i...</td>\n",
       "      <td>0</td>\n",
       "    </tr>\n",
       "    <tr>\n",
       "      <th>4</th>\n",
       "      <td>4</td>\n",
       "      <td>9</td>\n",
       "      <td>10</td>\n",
       "      <td>Which one dissolve in water quikly sugar, salt...</td>\n",
       "      <td>Which fish would survive in salt water?</td>\n",
       "      <td>0</td>\n",
       "    </tr>\n",
       "  </tbody>\n",
       "</table>\n",
       "</div>"
      ],
      "text/plain": [
       "   id  qid1  qid2                                          question1  \\\n",
       "0   0     1     2  What is the step by step guide to invest in sh...   \n",
       "1   1     3     4  What is the story of Kohinoor (Koh-i-Noor) Dia...   \n",
       "2   2     5     6  How can I increase the speed of my internet co...   \n",
       "3   3     7     8  Why am I mentally very lonely? How can I solve...   \n",
       "4   4     9    10  Which one dissolve in water quikly sugar, salt...   \n",
       "\n",
       "                                           question2  is_duplicate  \n",
       "0  What is the step by step guide to invest in sh...             0  \n",
       "1  What would happen if the Indian government sto...             0  \n",
       "2  How can Internet speed be increased by hacking...             0  \n",
       "3  Find the remainder when [math]23^{24}[/math] i...             0  \n",
       "4            Which fish would survive in salt water?             0  "
      ]
     },
     "execution_count": 15,
     "metadata": {},
     "output_type": "execute_result"
    }
   ],
   "source": [
    "df.head()"
   ]
  },
  {
   "cell_type": "code",
   "execution_count": 16,
   "id": "82dca197",
   "metadata": {
    "collapsed": true
   },
   "outputs": [
    {
     "data": {
      "text/html": [
       "<div>\n",
       "<style scoped>\n",
       "    .dataframe tbody tr th:only-of-type {\n",
       "        vertical-align: middle;\n",
       "    }\n",
       "\n",
       "    .dataframe tbody tr th {\n",
       "        vertical-align: top;\n",
       "    }\n",
       "\n",
       "    .dataframe thead th {\n",
       "        text-align: right;\n",
       "    }\n",
       "</style>\n",
       "<table border=\"1\" class=\"dataframe\">\n",
       "  <thead>\n",
       "    <tr style=\"text-align: right;\">\n",
       "      <th></th>\n",
       "      <th>id</th>\n",
       "      <th>qid1</th>\n",
       "      <th>qid2</th>\n",
       "      <th>question1</th>\n",
       "      <th>question2</th>\n",
       "      <th>is_duplicate</th>\n",
       "    </tr>\n",
       "  </thead>\n",
       "  <tbody>\n",
       "    <tr>\n",
       "      <th>276218</th>\n",
       "      <td>276218</td>\n",
       "      <td>363441</td>\n",
       "      <td>39558</td>\n",
       "      <td>What are the most famous/popular local product...</td>\n",
       "      <td>What are the most famous/popular local product...</td>\n",
       "      <td>0</td>\n",
       "    </tr>\n",
       "    <tr>\n",
       "      <th>364640</th>\n",
       "      <td>364640</td>\n",
       "      <td>188592</td>\n",
       "      <td>215423</td>\n",
       "      <td>How do I clear bank exams?</td>\n",
       "      <td>How can I clear the bank exams after degree?</td>\n",
       "      <td>1</td>\n",
       "    </tr>\n",
       "    <tr>\n",
       "      <th>231473</th>\n",
       "      <td>231473</td>\n",
       "      <td>36087</td>\n",
       "      <td>45946</td>\n",
       "      <td>What is the weirdest dream you ever had?</td>\n",
       "      <td>What are the creepiest dreams you ever had?</td>\n",
       "      <td>1</td>\n",
       "    </tr>\n",
       "    <tr>\n",
       "      <th>189920</th>\n",
       "      <td>189920</td>\n",
       "      <td>132922</td>\n",
       "      <td>46127</td>\n",
       "      <td>How will Trump's presidency affect the Indian ...</td>\n",
       "      <td>How would it affect Indian students studying/w...</td>\n",
       "      <td>1</td>\n",
       "    </tr>\n",
       "    <tr>\n",
       "      <th>315776</th>\n",
       "      <td>315776</td>\n",
       "      <td>102110</td>\n",
       "      <td>16254</td>\n",
       "      <td>Has anyone found a way to make money using Quora?</td>\n",
       "      <td>How can I earn money on Quora?</td>\n",
       "      <td>1</td>\n",
       "    </tr>\n",
       "    <tr>\n",
       "      <th>123550</th>\n",
       "      <td>123550</td>\n",
       "      <td>199725</td>\n",
       "      <td>199726</td>\n",
       "      <td>Which app lets you watch live football for free?</td>\n",
       "      <td>Where can I watch live streaming football matc...</td>\n",
       "      <td>0</td>\n",
       "    </tr>\n",
       "    <tr>\n",
       "      <th>55022</th>\n",
       "      <td>55022</td>\n",
       "      <td>11463</td>\n",
       "      <td>97051</td>\n",
       "      <td>Is there a way to download videos from Faceboo...</td>\n",
       "      <td>What is the best and quickest way to download ...</td>\n",
       "      <td>1</td>\n",
       "    </tr>\n",
       "    <tr>\n",
       "      <th>91453</th>\n",
       "      <td>91453</td>\n",
       "      <td>153255</td>\n",
       "      <td>153256</td>\n",
       "      <td>What are the problems in cloud computing?</td>\n",
       "      <td>What problems can cloud computing solve?</td>\n",
       "      <td>0</td>\n",
       "    </tr>\n",
       "    <tr>\n",
       "      <th>119168</th>\n",
       "      <td>119168</td>\n",
       "      <td>193552</td>\n",
       "      <td>193553</td>\n",
       "      <td>Why can't we distribute the exponents over add...</td>\n",
       "      <td>What is an exponent in standard form?</td>\n",
       "      <td>0</td>\n",
       "    </tr>\n",
       "    <tr>\n",
       "      <th>180558</th>\n",
       "      <td>180558</td>\n",
       "      <td>200960</td>\n",
       "      <td>124461</td>\n",
       "      <td>How do you make hair grow faster overnight?</td>\n",
       "      <td>What the best way to make your short hair grow...</td>\n",
       "      <td>1</td>\n",
       "    </tr>\n",
       "  </tbody>\n",
       "</table>\n",
       "</div>"
      ],
      "text/plain": [
       "            id    qid1    qid2  \\\n",
       "276218  276218  363441   39558   \n",
       "364640  364640  188592  215423   \n",
       "231473  231473   36087   45946   \n",
       "189920  189920  132922   46127   \n",
       "315776  315776  102110   16254   \n",
       "123550  123550  199725  199726   \n",
       "55022    55022   11463   97051   \n",
       "91453    91453  153255  153256   \n",
       "119168  119168  193552  193553   \n",
       "180558  180558  200960  124461   \n",
       "\n",
       "                                                question1  \\\n",
       "276218  What are the most famous/popular local product...   \n",
       "364640                         How do I clear bank exams?   \n",
       "231473           What is the weirdest dream you ever had?   \n",
       "189920  How will Trump's presidency affect the Indian ...   \n",
       "315776  Has anyone found a way to make money using Quora?   \n",
       "123550   Which app lets you watch live football for free?   \n",
       "55022   Is there a way to download videos from Faceboo...   \n",
       "91453           What are the problems in cloud computing?   \n",
       "119168  Why can't we distribute the exponents over add...   \n",
       "180558        How do you make hair grow faster overnight?   \n",
       "\n",
       "                                                question2  is_duplicate  \n",
       "276218  What are the most famous/popular local product...             0  \n",
       "364640       How can I clear the bank exams after degree?             1  \n",
       "231473        What are the creepiest dreams you ever had?             1  \n",
       "189920  How would it affect Indian students studying/w...             1  \n",
       "315776                     How can I earn money on Quora?             1  \n",
       "123550  Where can I watch live streaming football matc...             0  \n",
       "55022   What is the best and quickest way to download ...             1  \n",
       "91453            What problems can cloud computing solve?             0  \n",
       "119168              What is an exponent in standard form?             0  \n",
       "180558  What the best way to make your short hair grow...             1  "
      ]
     },
     "execution_count": 16,
     "metadata": {},
     "output_type": "execute_result"
    }
   ],
   "source": [
    "df.sample(10)"
   ]
  },
  {
   "cell_type": "code",
   "execution_count": 17,
   "id": "7f24984e",
   "metadata": {
    "collapsed": true
   },
   "outputs": [
    {
     "name": "stdout",
     "output_type": "stream",
     "text": [
      "<class 'pandas.core.frame.DataFrame'>\n",
      "RangeIndex: 404290 entries, 0 to 404289\n",
      "Data columns (total 6 columns):\n",
      " #   Column        Non-Null Count   Dtype \n",
      "---  ------        --------------   ----- \n",
      " 0   id            404290 non-null  int64 \n",
      " 1   qid1          404290 non-null  int64 \n",
      " 2   qid2          404290 non-null  int64 \n",
      " 3   question1     404289 non-null  object\n",
      " 4   question2     404288 non-null  object\n",
      " 5   is_duplicate  404290 non-null  int64 \n",
      "dtypes: int64(4), object(2)\n",
      "memory usage: 18.5+ MB\n"
     ]
    }
   ],
   "source": [
    "df.info()"
   ]
  },
  {
   "cell_type": "code",
   "execution_count": 18,
   "id": "1c5c5aec",
   "metadata": {
    "collapsed": true
   },
   "outputs": [
    {
     "data": {
      "text/plain": [
       "id              0\n",
       "qid1            0\n",
       "qid2            0\n",
       "question1       1\n",
       "question2       2\n",
       "is_duplicate    0\n",
       "dtype: int64"
      ]
     },
     "execution_count": 18,
     "metadata": {},
     "output_type": "execute_result"
    }
   ],
   "source": [
    "df.isnull().sum()"
   ]
  },
  {
   "cell_type": "code",
   "execution_count": 19,
   "id": "24086797",
   "metadata": {},
   "outputs": [],
   "source": [
    "# Liter Dataset\n",
    "df = df.sample(30000)"
   ]
  },
  {
   "cell_type": "code",
   "execution_count": 22,
   "id": "608fc221",
   "metadata": {},
   "outputs": [],
   "source": [
    "questions_df = df[['question1','question2']]"
   ]
  },
  {
   "cell_type": "code",
   "execution_count": 77,
   "id": "6b7f0d46",
   "metadata": {},
   "outputs": [
    {
     "name": "stdout",
     "output_type": "stream",
     "text": [
      "besh be go to discover of the scarves would have 5 pound\n"
     ]
    }
   ],
   "source": [
    "from nltk.corpus import stopwords\n",
    "from nltk.tokenize import word_tokenize\n",
    "from nltk.stem import WordNetLemmatizer\n",
    "import contractions\n",
    "\n",
    "def tokenize(text):\n",
    "    return word_tokenize(text)\n",
    "\n",
    "def remove_stopwords(text):\n",
    "    list_of_words = tokenize(text)\n",
    "    _stopwords = set(stopwords.words(\"english\"))\n",
    "    filtered_list = [word + ' ' for word in list_of_words if word.casefold() not in _stopwords]\n",
    "    return (''.join(filtered_list))[: -1] # to remove space at the end of string\n",
    "\n",
    "def lemmatize(text):\n",
    "    words = tokenize(text)\n",
    "    lemmatizer = WordNetLemmatizer()\n",
    "    lem_words = [lemmatizer.lemmatize(word, pos='v')+' ' for word in words]\n",
    "    return (''.join(lem_words))[: -1] # to remove space at the end of string\n",
    "\n",
    "def preprocessing(text):\n",
    "    constructed_txt = contractions.fix(text) # Remove shortened words such as \"we'd\" and return them to original words\n",
    "    lem_txt = lemmatize(constructed_txt) # lemmatize words to get the original ones\n",
    "    free_stopwords_txt = remove_stopwords(lem_txt) # remove stopwords\n",
    "    print(lem_txt)\n",
    "\n",
    "preprocessing(\"besh is going to discovering of the scarves would've 5 pounds\")"
   ]
  },
  {
   "cell_type": "code",
   "execution_count": 72,
   "id": "12192608",
   "metadata": {},
   "outputs": [
    {
     "data": {
      "text/html": [
       "<details>\n",
       "<summary>Click to view session information</summary>\n",
       "<pre>\n",
       "-----\n",
       "contractions        NA\n",
       "matplotlib          3.3.4\n",
       "nltk                3.5\n",
       "numpy               1.19.2\n",
       "pandas              1.1.5\n",
       "seaborn             0.11.2\n",
       "session_info        1.0.0\n",
       "-----\n",
       "</pre>\n",
       "<details>\n",
       "<summary>Click to view modules imported as dependencies</summary>\n",
       "<pre>\n",
       "PIL                 8.4.0\n",
       "ahocorasick         NA\n",
       "anyascii            0.3.1\n",
       "backcall            0.2.0\n",
       "cffi                1.15.0\n",
       "colorama            0.4.4\n",
       "cycler              0.10.0\n",
       "cython_runtime      NA\n",
       "dateutil            2.8.2\n",
       "decorator           5.1.1\n",
       "defusedxml          0.7.1\n",
       "entrypoints         0.4\n",
       "ipykernel           5.5.6\n",
       "ipython_genutils    0.2.0\n",
       "ipywidgets          7.7.0\n",
       "jedi                0.17.2\n",
       "joblib              1.1.0\n",
       "kiwisolver          1.3.1\n",
       "mkl                 2.3.0\n",
       "mpl_toolkits        NA\n",
       "nt                  NA\n",
       "ntsecuritycon       NA\n",
       "parso               0.7.1\n",
       "pickleshare         0.7.5\n",
       "pkg_resources       NA\n",
       "prompt_toolkit      3.0.28\n",
       "pygments            2.11.2\n",
       "pyparsing           3.0.7\n",
       "pythoncom           NA\n",
       "pytz                2021.3\n",
       "pywin32_bootstrap   NA\n",
       "pywin32_system32    NA\n",
       "pywintypes          NA\n",
       "regex               2.5.112\n",
       "scipy               1.5.4\n",
       "six                 1.16.0\n",
       "sklearn             0.24.2\n",
       "storemagic          NA\n",
       "textsearch          NA\n",
       "tornado             6.1\n",
       "traitlets           4.3.3\n",
       "typing_extensions   NA\n",
       "wcwidth             0.2.5\n",
       "win32api            NA\n",
       "win32com            NA\n",
       "win32security       NA\n",
       "zmq                 22.3.0\n",
       "</pre>\n",
       "</details> <!-- seems like this ends pre, so might as well be explicit -->\n",
       "<pre>\n",
       "-----\n",
       "IPython             7.16.3\n",
       "jupyter_client      7.1.2\n",
       "jupyter_core        4.9.2\n",
       "notebook            6.4.10\n",
       "-----\n",
       "Python 3.6.13 |Anaconda, Inc.| (default, Mar 16 2021, 11:37:27) [MSC v.1916 64 bit (AMD64)]\n",
       "Windows-10-10.0.19041-SP0\n",
       "-----\n",
       "Session information updated at 2022-05-07 19:35\n",
       "</pre>\n",
       "</details>"
      ],
      "text/plain": [
       "<IPython.core.display.HTML object>"
      ]
     },
     "execution_count": 72,
     "metadata": {},
     "output_type": "execute_result"
    }
   ],
   "source": [
    "import session_info\n",
    "session_info.show()"
   ]
  },
  {
   "cell_type": "code",
   "execution_count": null,
   "id": "1735b4e0",
   "metadata": {},
   "outputs": [],
   "source": []
  }
 ],
 "metadata": {
  "kernelspec": {
   "display_name": "Python 3",
   "language": "python",
   "name": "python3"
  },
  "language_info": {
   "codemirror_mode": {
    "name": "ipython",
    "version": 3
   },
   "file_extension": ".py",
   "mimetype": "text/x-python",
   "name": "python",
   "nbconvert_exporter": "python",
   "pygments_lexer": "ipython3",
   "version": "3.6.13"
  }
 },
 "nbformat": 4,
 "nbformat_minor": 5
}
